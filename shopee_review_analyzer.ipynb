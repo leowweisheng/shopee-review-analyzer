{
 "cells": [
  {
   "cell_type": "markdown",
   "id": "98c3ccd5",
   "metadata": {},
   "source": [
    "### Import Modules"
   ]
  },
  {
   "cell_type": "code",
   "execution_count": null,
   "id": "fb8ba9b1",
   "metadata": {},
   "outputs": [],
   "source": [
    "import utils\n",
    "import nlp_tools\n",
    "import scraping_tools"
   ]
  },
  {
   "cell_type": "markdown",
   "id": "01e3d9c3",
   "metadata": {},
   "source": [
    "### Scraping Reviews"
   ]
  },
  {
   "cell_type": "code",
   "execution_count": null,
   "id": "dc90473e",
   "metadata": {},
   "outputs": [],
   "source": [
    "config = utils.read_yaml('config.yaml')\n",
    "webdriver_path = config['webdriver_path']\n",
    "url = config['url']"
   ]
  },
  {
   "cell_type": "code",
   "execution_count": null,
   "id": "15020b91",
   "metadata": {},
   "outputs": [],
   "source": [
    "reviews = scraping_tools.shopee_scraper(webdriver_path, url)"
   ]
  },
  {
   "cell_type": "markdown",
   "id": "6f1d2c5c",
   "metadata": {},
   "source": [
    "### Ratings Proportion"
   ]
  },
  {
   "cell_type": "code",
   "execution_count": null,
   "id": "2e72484b",
   "metadata": {},
   "outputs": [],
   "source": [
    "proportion = nlp_tools.get_ratings_proportion(reviews)"
   ]
  },
  {
   "cell_type": "markdown",
   "id": "b63620cf",
   "metadata": {},
   "source": [
    "### Get Top Reviews"
   ]
  },
  {
   "cell_type": "code",
   "execution_count": null,
   "id": "7d7bcda9",
   "metadata": {},
   "outputs": [],
   "source": [
    "sentences = nlp_tools.tokenize_reviews(reviews['Reviews'])"
   ]
  },
  {
   "cell_type": "code",
   "execution_count": null,
   "id": "3861f56d",
   "metadata": {},
   "outputs": [],
   "source": [
    "top_reviews = nlp_tools.get_top_reviews(sentences)"
   ]
  },
  {
   "cell_type": "markdown",
   "id": "7e02fe39",
   "metadata": {},
   "source": [
    "### Get Key Phrases"
   ]
  },
  {
   "cell_type": "code",
   "execution_count": null,
   "id": "ab84b23e",
   "metadata": {},
   "outputs": [],
   "source": [
    "ratings_summary = nlp_tools.get_key_phrases(reviews)"
   ]
  },
  {
   "cell_type": "markdown",
   "id": "aeff910b",
   "metadata": {},
   "source": [
    "### Get Analysis Report"
   ]
  },
  {
   "cell_type": "code",
   "execution_count": null,
   "id": "ce917c95",
   "metadata": {},
   "outputs": [],
   "source": [
    "utils.write_analysis_report(url, proportion, top_reviews, ratings_summary)"
   ]
  }
 ],
 "metadata": {
  "kernelspec": {
   "display_name": "Python 3 (ipykernel)",
   "language": "python",
   "name": "python3"
  },
  "language_info": {
   "codemirror_mode": {
    "name": "ipython",
    "version": 3
   },
   "file_extension": ".py",
   "mimetype": "text/x-python",
   "name": "python",
   "nbconvert_exporter": "python",
   "pygments_lexer": "ipython3",
   "version": "3.8.11"
  }
 },
 "nbformat": 4,
 "nbformat_minor": 5
}
